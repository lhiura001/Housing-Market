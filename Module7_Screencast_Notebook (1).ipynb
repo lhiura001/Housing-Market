{
 "cells": [
  {
   "cell_type": "markdown",
   "metadata": {},
   "source": [
    "## Module 7 - Problem Solving in Data Science"
   ]
  },
  {
   "cell_type": "markdown",
   "metadata": {},
   "source": [
    "So far in this course we have taken one topic or tool at a time and looked at how we could tackle a given data problem. In this final module, it is time to bring them together to solve data problems from start to finish. This process typically includes importing data, cleaning and processing it for analysis, visualizing and developing models based on the nature of problem.\n",
    "\n",
    "(Note: I will be using Python for this presentation as you can find the the same datasets solved using R in the textbook)"
   ]
  },
  {
   "cell_type": "code",
   "execution_count": 1,
   "metadata": {},
   "outputs": [],
   "source": [
    "import numpy as np\n",
    "import pandas as pd\n",
    "import matplotlib as mpl\n",
    "import matplotlib.pyplot as plt\n",
    "import seaborn as sns\n",
    "\n",
    "import statsmodels.api as sm\n",
    "from sklearn.model_selection import train_test_split\n",
    "from sklearn.ensemble import RandomForestClassifier\n",
    "from sklearn import metrics"
   ]
  },
  {
   "cell_type": "markdown",
   "metadata": {},
   "source": [
    "### Dermatology dataset"
   ]
  },
  {
   "cell_type": "markdown",
   "metadata": {},
   "source": [
    "**Step 1: Load the data** <br>\n",
    "We will start by looking at a dataset with which we can try out several of the techniques we have learned so far. Go ahead and import the dermatology.csv file which contains patients' clinical and histopathological features related to skin diseases. There are 35 variables of which the last column 'Disease' is the class label."
   ]
  },
  {
   "cell_type": "code",
   "execution_count": 2,
   "metadata": {},
   "outputs": [
    {
     "data": {
      "text/html": [
       "<div>\n",
       "<style scoped>\n",
       "    .dataframe tbody tr th:only-of-type {\n",
       "        vertical-align: middle;\n",
       "    }\n",
       "\n",
       "    .dataframe tbody tr th {\n",
       "        vertical-align: top;\n",
       "    }\n",
       "\n",
       "    .dataframe thead th {\n",
       "        text-align: right;\n",
       "    }\n",
       "</style>\n",
       "<table border=\"1\" class=\"dataframe\">\n",
       "  <thead>\n",
       "    <tr style=\"text-align: right;\">\n",
       "      <th></th>\n",
       "      <th>Erythema</th>\n",
       "      <th>Scathing</th>\n",
       "      <th>Definite Borders</th>\n",
       "      <th>Itching</th>\n",
       "      <th>Koebner</th>\n",
       "      <th>Polygonal</th>\n",
       "      <th>Follicular</th>\n",
       "      <th>Oral</th>\n",
       "      <th>Knee</th>\n",
       "      <th>Scalp</th>\n",
       "      <th>...</th>\n",
       "      <th>Disapperance</th>\n",
       "      <th>Vacuolisation</th>\n",
       "      <th>Spongiosis</th>\n",
       "      <th>Retes</th>\n",
       "      <th>Follicular.1</th>\n",
       "      <th>Perifollicular</th>\n",
       "      <th>Inflamatory</th>\n",
       "      <th>Band-like</th>\n",
       "      <th>Age</th>\n",
       "      <th>Disease</th>\n",
       "    </tr>\n",
       "  </thead>\n",
       "  <tbody>\n",
       "    <tr>\n",
       "      <th>0</th>\n",
       "      <td>2</td>\n",
       "      <td>2</td>\n",
       "      <td>0</td>\n",
       "      <td>3</td>\n",
       "      <td>0</td>\n",
       "      <td>0</td>\n",
       "      <td>0</td>\n",
       "      <td>0</td>\n",
       "      <td>1</td>\n",
       "      <td>0</td>\n",
       "      <td>...</td>\n",
       "      <td>0</td>\n",
       "      <td>0</td>\n",
       "      <td>3</td>\n",
       "      <td>0</td>\n",
       "      <td>0</td>\n",
       "      <td>0</td>\n",
       "      <td>1</td>\n",
       "      <td>0</td>\n",
       "      <td>55</td>\n",
       "      <td>2</td>\n",
       "    </tr>\n",
       "    <tr>\n",
       "      <th>1</th>\n",
       "      <td>3</td>\n",
       "      <td>3</td>\n",
       "      <td>3</td>\n",
       "      <td>2</td>\n",
       "      <td>1</td>\n",
       "      <td>0</td>\n",
       "      <td>0</td>\n",
       "      <td>0</td>\n",
       "      <td>1</td>\n",
       "      <td>1</td>\n",
       "      <td>...</td>\n",
       "      <td>0</td>\n",
       "      <td>0</td>\n",
       "      <td>0</td>\n",
       "      <td>0</td>\n",
       "      <td>0</td>\n",
       "      <td>0</td>\n",
       "      <td>1</td>\n",
       "      <td>0</td>\n",
       "      <td>8</td>\n",
       "      <td>1</td>\n",
       "    </tr>\n",
       "    <tr>\n",
       "      <th>2</th>\n",
       "      <td>2</td>\n",
       "      <td>1</td>\n",
       "      <td>2</td>\n",
       "      <td>3</td>\n",
       "      <td>1</td>\n",
       "      <td>3</td>\n",
       "      <td>0</td>\n",
       "      <td>3</td>\n",
       "      <td>0</td>\n",
       "      <td>0</td>\n",
       "      <td>...</td>\n",
       "      <td>0</td>\n",
       "      <td>2</td>\n",
       "      <td>3</td>\n",
       "      <td>2</td>\n",
       "      <td>0</td>\n",
       "      <td>0</td>\n",
       "      <td>2</td>\n",
       "      <td>3</td>\n",
       "      <td>26</td>\n",
       "      <td>3</td>\n",
       "    </tr>\n",
       "    <tr>\n",
       "      <th>3</th>\n",
       "      <td>2</td>\n",
       "      <td>2</td>\n",
       "      <td>2</td>\n",
       "      <td>0</td>\n",
       "      <td>0</td>\n",
       "      <td>0</td>\n",
       "      <td>0</td>\n",
       "      <td>0</td>\n",
       "      <td>3</td>\n",
       "      <td>2</td>\n",
       "      <td>...</td>\n",
       "      <td>3</td>\n",
       "      <td>0</td>\n",
       "      <td>0</td>\n",
       "      <td>0</td>\n",
       "      <td>0</td>\n",
       "      <td>0</td>\n",
       "      <td>3</td>\n",
       "      <td>0</td>\n",
       "      <td>40</td>\n",
       "      <td>1</td>\n",
       "    </tr>\n",
       "    <tr>\n",
       "      <th>4</th>\n",
       "      <td>2</td>\n",
       "      <td>3</td>\n",
       "      <td>2</td>\n",
       "      <td>2</td>\n",
       "      <td>2</td>\n",
       "      <td>2</td>\n",
       "      <td>0</td>\n",
       "      <td>2</td>\n",
       "      <td>0</td>\n",
       "      <td>0</td>\n",
       "      <td>...</td>\n",
       "      <td>2</td>\n",
       "      <td>3</td>\n",
       "      <td>2</td>\n",
       "      <td>3</td>\n",
       "      <td>0</td>\n",
       "      <td>0</td>\n",
       "      <td>2</td>\n",
       "      <td>3</td>\n",
       "      <td>45</td>\n",
       "      <td>3</td>\n",
       "    </tr>\n",
       "  </tbody>\n",
       "</table>\n",
       "<p>5 rows × 35 columns</p>\n",
       "</div>"
      ],
      "text/plain": [
       "   Erythema  Scathing  Definite Borders  Itching  Koebner   Polygonal  \\\n",
       "0         2         2                 0        3         0          0   \n",
       "1         3         3                 3        2         1          0   \n",
       "2         2         1                 2        3         1          3   \n",
       "3         2         2                 2        0         0          0   \n",
       "4         2         3                 2        2         2          2   \n",
       "\n",
       "   Follicular  Oral  Knee  Scalp  ...  Disapperance  Vacuolisation  \\\n",
       "0           0     0     1      0  ...             0              0   \n",
       "1           0     0     1      1  ...             0              0   \n",
       "2           0     3     0      0  ...             0              2   \n",
       "3           0     0     3      2  ...             3              0   \n",
       "4           0     2     0      0  ...             2              3   \n",
       "\n",
       "   Spongiosis  Retes  Follicular.1  Perifollicular  Inflamatory  Band-like  \\\n",
       "0           3      0             0               0            1          0   \n",
       "1           0      0             0               0            1          0   \n",
       "2           3      2             0               0            2          3   \n",
       "3           0      0             0               0            3          0   \n",
       "4           2      3             0               0            2          3   \n",
       "\n",
       "   Age  Disease  \n",
       "0   55        2  \n",
       "1    8        1  \n",
       "2   26        3  \n",
       "3   40        1  \n",
       "4   45        3  \n",
       "\n",
       "[5 rows x 35 columns]"
      ]
     },
     "execution_count": 2,
     "metadata": {},
     "output_type": "execute_result"
    }
   ],
   "source": [
    "derm_df = pd.read_csv('dermatology.csv', header = 0, sep = '\\t')\n",
    "derm_df.head()"
   ]
  },
  {
   "cell_type": "markdown",
   "metadata": {},
   "source": [
    "From the dataset fields, except for Age all other independent variables are ordinal ranging from a degree of 0-3 and  Family History ranges from 0-1. The class label Disease contains 6 categories of diseases, let's assign the correct data types for Age and Disease columns in the dataframe."
   ]
  },
  {
   "cell_type": "code",
   "execution_count": 3,
   "metadata": {},
   "outputs": [],
   "source": [
    "derm_df['Age'] = pd.to_numeric(derm_df['Age'], errors='coerce')\n",
    "derm_df['Disease'] = derm_df['Disease'].astype('category')"
   ]
  },
  {
   "cell_type": "markdown",
   "metadata": {},
   "source": [
    "**Step 2: Visual Exploration of data** <br>\n",
    "Let us create a simple box-plot visualization between age and different categories of diseases. "
   ]
  },
  {
   "cell_type": "code",
   "execution_count": 4,
   "metadata": {},
   "outputs": [],
   "source": [
    "derm_df['Age'] = derm_df['Age'].fillna(derm_df['Age'].median())  # fill any null values in Age with median "
   ]
  },
  {
   "cell_type": "code",
   "execution_count": 5,
   "metadata": {},
   "outputs": [
    {
     "data": {
      "image/png": "[encoded data removed]",
      "text/plain": [
       "<Figure size 576x432 with 1 Axes>"
      ]
     },
     "metadata": {
      "needs_background": "light"
     },
     "output_type": "display_data"
    }
   ],
   "source": [
    "fig = plt.figure(figsize=(8,6))\n",
    "sns.boxplot(derm_df['Disease'],derm_df['Age'])\n",
    "plt.show()"
   ]
  },
  {
   "cell_type": "markdown",
   "metadata": {},
   "source": [
    "The plot shows us that age is not a very good indicator to disease, as most disease types span over a wide range of ages. Let's see if there is some relationship between age and disease, even if it is not very strong."
   ]
  },
  {
   "cell_type": "markdown",
   "metadata": {},
   "source": [
    "**Step 3: Simple Linear Regression** <br>\n",
    "We will now attempt to learn the relationship between age and disease using a simple linear regression. As there are six different diseases here, let's extract the data pertaining only to disease 1, to keep things simple!"
   ]
  },
  {
   "cell_type": "code",
   "execution_count": 6,
   "metadata": {},
   "outputs": [],
   "source": [
    "derm_df['Disease1'] = derm_df['Disease'].apply(lambda x: x if x==1 else 0)  # create new column for disease type 1"
   ]
  },
  {
   "cell_type": "code",
   "execution_count": 7,
   "metadata": {},
   "outputs": [
    {
     "name": "stdout",
     "output_type": "stream",
     "text": [
      "                                 OLS Regression Results                                \n",
      "=======================================================================================\n",
      "Dep. Variable:               Disease1   R-squared (uncentered):                   0.307\n",
      "Model:                            OLS   Adj. R-squared (uncentered):              0.305\n",
      "Method:                 Least Squares   F-statistic:                              161.4\n",
      "Date:                Mon, 24 Aug 2020   Prob (F-statistic):                    7.09e-31\n",
      "Time:                        08:17:45   Log-Likelihood:                         -235.62\n",
      "No. Observations:                 366   AIC:                                      473.2\n",
      "Df Residuals:                     365   BIC:                                      477.1\n",
      "Df Model:                           1                                                  \n",
      "Covariance Type:            nonrobust                                                  \n",
      "==============================================================================\n",
      "                 coef    std err          t      P>|t|      [0.025      0.975]\n",
      "------------------------------------------------------------------------------\n",
      "Age            0.0078      0.001     12.705      0.000       0.007       0.009\n",
      "==============================================================================\n",
      "Omnibus:                      156.402   Durbin-Watson:                   1.521\n",
      "Prob(Omnibus):                  0.000   Jarque-Bera (JB):               55.057\n",
      "Skew:                           0.769   Prob(JB):                     1.11e-12\n",
      "Kurtosis:                       1.886   Cond. No.                         1.00\n",
      "==============================================================================\n",
      "\n",
      "Warnings:\n",
      "[1] Standard Errors assume that the covariance matrix of the errors is correctly specified.\n"
     ]
    }
   ],
   "source": [
    "res = sm.OLS(derm_df['Disease1'],derm_df['Age']).fit()\n",
    "print(res.summary())"
   ]
  },
  {
   "cell_type": "markdown",
   "metadata": {},
   "source": [
    "The regression summary indicates that there is a weak linear relationship between Age and Disease type 1. This is expected as linear regression is not the ideal process to determine relationship between a numeric and categorical variable. So, which type of modeling do you think should be used? It's classification"
   ]
  },
  {
   "cell_type": "markdown",
   "metadata": {},
   "source": [
    "**Step 4: Classification with Random Forests** <br>\n",
    "For this example, we will use Random Forest classifier to predict disease types using the available features from the dataframe. Make sure to split the data into train and test sets, a ratio of 70:30 is used here."
   ]
  },
  {
   "cell_type": "code",
   "execution_count": 8,
   "metadata": {},
   "outputs": [],
   "source": [
    "derm_df.iloc[:, 0:33] = derm_df.iloc[:, 0:33].astype('category')"
   ]
  },
  {
   "cell_type": "code",
   "execution_count": 9,
   "metadata": {},
   "outputs": [],
   "source": [
    "np.random.seed(123)\n",
    "X_train, X_test, y_train, y_test = train_test_split(derm_df.iloc[:, 0:34], derm_df.iloc[:, 34], test_size=0.3) \n",
    "clf=RandomForestClassifier(n_estimators=100)  #create a classifier\n",
    "clf.fit(X_train,y_train)  #train the model using training sets\n",
    "y_pred=clf.predict(X_test)  #classify the test set"
   ]
  },
  {
   "cell_type": "code",
   "execution_count": 10,
   "metadata": {},
   "outputs": [
    {
     "name": "stdout",
     "output_type": "stream",
     "text": [
      "[[34  0  0  0  0  0]\n",
      " [ 1 18  0  0  0  0]\n",
      " [ 0  0 20  1  0  0]\n",
      " [ 0  3  0 13  0  0]\n",
      " [ 0  0  0  0 14  0]\n",
      " [ 0  0  0  0  0  6]]\n",
      "              precision    recall  f1-score   support\n",
      "\n",
      "           1       0.97      1.00      0.99        34\n",
      "           2       0.86      0.95      0.90        19\n",
      "           3       1.00      0.95      0.98        21\n",
      "           4       0.93      0.81      0.87        16\n",
      "           5       1.00      1.00      1.00        14\n",
      "           6       1.00      1.00      1.00         6\n",
      "\n",
      "    accuracy                           0.95       110\n",
      "   macro avg       0.96      0.95      0.95       110\n",
      "weighted avg       0.96      0.95      0.95       110\n",
      "\n"
     ]
    }
   ],
   "source": [
    "print(metrics.confusion_matrix(y_test,y_pred))\n",
    "print(metrics.classification_report(y_test,y_pred))"
   ]
  },
  {
   "cell_type": "markdown",
   "metadata": {},
   "source": [
    "And the results are quite astounding with a near perfect accuracy score. Now, although Random Forests address overfitting quite well, there could be a number of factors that still effect a model to overfit the data like the small size of patient records in our dataset. This could result in high classification accuracy on the given data, but may not work so well for unseen data in the future."
   ]
  },
  {
   "cell_type": "markdown",
   "metadata": {},
   "source": [
    "**Step 5: Clustering with k-means** <br>\n",
    "We shall also try an unsupervised clustering model to visualize the disease types based on our independent variables. As the variables are mostly categorical, we need to scale them down to standard unit scale, and use PCA to reduce the data to two dimensions. As we already know there are 6 disease types, let's fit 6 clusters and visualize if the data points are clearly seperated!"
   ]
  },
  {
   "cell_type": "code",
   "execution_count": 11,
   "metadata": {},
   "outputs": [],
   "source": [
    "from sklearn.cluster import KMeans\n",
    "from sklearn.preprocessing import scale\n",
    "from sklearn.decomposition import PCA\n",
    "\n",
    "X_digits = derm_df.iloc[:, 0:34].values\n",
    "y_digits = derm_df.iloc[:, 34].values\n",
    "data = scale(X_digits)  #scale the categorical data levels to unit variance\n",
    "n_digits = len(np.unique(y_digits))\n",
    "labels = y_digits"
   ]
  },
  {
   "cell_type": "code",
   "execution_count": 12,
   "metadata": {
    "scrolled": false
   },
   "outputs": [
    {
     "data": {
      "image/png": "[encoded data removed]",
      "text/plain": [
       "<Figure size 720x576 with 1 Axes>"
      ]
     },
     "metadata": {},
     "output_type": "display_data"
    }
   ],
   "source": [
    "# Apply Principal Component Analysis to reduce data from 34 dimensions to 2 dimensions\n",
    "reduced_data = PCA(n_components=2).fit_transform(data)\n",
    "kmeans = KMeans(init='k-means++', n_clusters=n_digits, n_init=10)  #K-means clustering with 6 clusters\n",
    "kmeans.fit(reduced_data)\n",
    "\n",
    "\n",
    "# Plot the decision boundary. For that, we will assign a color to each\n",
    "x_min, x_max = reduced_data[:, 0].min() - 1, reduced_data[:, 0].max() + 1\n",
    "y_min, y_max = reduced_data[:, 1].min() - 1, reduced_data[:, 1].max() + 1\n",
    "xx, yy = np.meshgrid(np.arange(x_min, x_max, 0.1), np.arange(y_min, y_max, 0.1))\n",
    "\n",
    "# Obtain labels for each point in mesh. Use last trained model.\n",
    "Z = kmeans.predict(np.c_[xx.ravel(), yy.ravel()])\n",
    "\n",
    "# Put the result into a color plot\n",
    "Z = Z.reshape(xx.shape)\n",
    "fig = plt.figure(figsize=(10,8))\n",
    "plt.figure(1)\n",
    "plt.clf()\n",
    "plt.imshow(Z, interpolation='nearest',\n",
    "           extent=(xx.min(), xx.max(), yy.min(), yy.max()),\n",
    "           cmap=plt.cm.Paired, origin='lower')\n",
    "plt.plot(reduced_data[:, 0], reduced_data[:, 1], 'k.', markersize=3)\n",
    "\n",
    "plt.title('K-means clustering on PCA-reduced data')\n",
    "plt.xticks(())\n",
    "plt.yticks(())\n",
    "plt.show()"
   ]
  },
  {
   "cell_type": "markdown",
   "metadata": {},
   "source": [
    "Despite splitting into 6 clusters we can observe from the plot that there are 3 primary collection of data points. What this means based on our variables is that although there are 6 types of diseases there are only minor differences between each of the three pairs of diseases. "
   ]
  },
  {
   "cell_type": "markdown",
   "metadata": {},
   "source": [
    "### Yelp Reviews and Ratings dataset \n",
    "So, let us look at another real-life dataset, this time from an online review-sharing service, Yelp. <br> We will import Yelp's business and user related datasets for this example, available from its dataset challenge website."
   ]
  },
  {
   "cell_type": "code",
   "execution_count": 13,
   "metadata": {},
   "outputs": [
    {
     "data": {
      "text/html": [
       "<div>\n",
       "<style scoped>\n",
       "    .dataframe tbody tr th:only-of-type {\n",
       "        vertical-align: middle;\n",
       "    }\n",
       "\n",
       "    .dataframe tbody tr th {\n",
       "        vertical-align: top;\n",
       "    }\n",
       "\n",
       "    .dataframe thead th {\n",
       "        text-align: right;\n",
       "    }\n",
       "</style>\n",
       "<table border=\"1\" class=\"dataframe\">\n",
       "  <thead>\n",
       "    <tr style=\"text-align: right;\">\n",
       "      <th></th>\n",
       "      <th>business_id</th>\n",
       "      <th>name</th>\n",
       "      <th>full_address</th>\n",
       "      <th>hours</th>\n",
       "      <th>open</th>\n",
       "      <th>categories</th>\n",
       "      <th>city</th>\n",
       "      <th>state</th>\n",
       "      <th>review_count</th>\n",
       "      <th>stars</th>\n",
       "    </tr>\n",
       "  </thead>\n",
       "  <tbody>\n",
       "    <tr>\n",
       "      <th>0</th>\n",
       "      <td>5UmKMjUEUNdYWqANhGckJw</td>\n",
       "      <td>Mr Hoagie</td>\n",
       "      <td>4734 Lebanon Church Rd\\nDravosburg, PA 15034</td>\n",
       "      <td>{'Friday': {'close': '21:00', 'open': '11:00'}...</td>\n",
       "      <td>True</td>\n",
       "      <td>['Fast Food', 'Restaurants']</td>\n",
       "      <td>Dravosburg</td>\n",
       "      <td>PA</td>\n",
       "      <td>4</td>\n",
       "      <td>4.5</td>\n",
       "    </tr>\n",
       "    <tr>\n",
       "      <th>1</th>\n",
       "      <td>UsFtqoBl7naz8AVUBZMjQQ</td>\n",
       "      <td>Clancy's Pub</td>\n",
       "      <td>202 McClure St\\nDravosburg, PA 15034</td>\n",
       "      <td>{}</td>\n",
       "      <td>True</td>\n",
       "      <td>['Nightlife']</td>\n",
       "      <td>Dravosburg</td>\n",
       "      <td>PA</td>\n",
       "      <td>4</td>\n",
       "      <td>3.5</td>\n",
       "    </tr>\n",
       "    <tr>\n",
       "      <th>2</th>\n",
       "      <td>3eu6MEFlq2Dg7bQh8QbdOg</td>\n",
       "      <td>Joe Cislo's Auto</td>\n",
       "      <td>1 Ravine St\\nDravosburg, PA 15034</td>\n",
       "      <td>{}</td>\n",
       "      <td>True</td>\n",
       "      <td>['Auto Repair', 'Automotive']</td>\n",
       "      <td>Dravosburg</td>\n",
       "      <td>PA</td>\n",
       "      <td>3</td>\n",
       "      <td>5.0</td>\n",
       "    </tr>\n",
       "    <tr>\n",
       "      <th>3</th>\n",
       "      <td>cE27W9VPgO88Qxe4ol6y_g</td>\n",
       "      <td>Cool Springs Golf Center</td>\n",
       "      <td>1530 Hamilton Rd\\nBethel Park, PA 15234</td>\n",
       "      <td>{}</td>\n",
       "      <td>False</td>\n",
       "      <td>['Active Life', 'Mini Golf', 'Golf']</td>\n",
       "      <td>Bethel Park</td>\n",
       "      <td>PA</td>\n",
       "      <td>5</td>\n",
       "      <td>2.5</td>\n",
       "    </tr>\n",
       "    <tr>\n",
       "      <th>4</th>\n",
       "      <td>HZdLhv6COCleJMo7nPl-RA</td>\n",
       "      <td>Verizon</td>\n",
       "      <td>301 South Hills Village\\nPittsburgh, PA 15241</td>\n",
       "      <td>{'Thursday': {'close': '17:00', 'open': '10:00...</td>\n",
       "      <td>True</td>\n",
       "      <td>['Shopping', 'Home Services', 'Internet Servic...</td>\n",
       "      <td>Pittsburgh</td>\n",
       "      <td>PA</td>\n",
       "      <td>5</td>\n",
       "      <td>2.5</td>\n",
       "    </tr>\n",
       "  </tbody>\n",
       "</table>\n",
       "</div>"
      ],
      "text/plain": [
       "              business_id                      name  \\\n",
       "0  5UmKMjUEUNdYWqANhGckJw                 Mr Hoagie   \n",
       "1  UsFtqoBl7naz8AVUBZMjQQ              Clancy's Pub   \n",
       "2  3eu6MEFlq2Dg7bQh8QbdOg          Joe Cislo's Auto   \n",
       "3  cE27W9VPgO88Qxe4ol6y_g  Cool Springs Golf Center   \n",
       "4  HZdLhv6COCleJMo7nPl-RA                   Verizon   \n",
       "\n",
       "                                    full_address  \\\n",
       "0   4734 Lebanon Church Rd\\nDravosburg, PA 15034   \n",
       "1           202 McClure St\\nDravosburg, PA 15034   \n",
       "2              1 Ravine St\\nDravosburg, PA 15034   \n",
       "3        1530 Hamilton Rd\\nBethel Park, PA 15234   \n",
       "4  301 South Hills Village\\nPittsburgh, PA 15241   \n",
       "\n",
       "                                               hours   open  \\\n",
       "0  {'Friday': {'close': '21:00', 'open': '11:00'}...   True   \n",
       "1                                                 {}   True   \n",
       "2                                                 {}   True   \n",
       "3                                                 {}  False   \n",
       "4  {'Thursday': {'close': '17:00', 'open': '10:00...   True   \n",
       "\n",
       "                                          categories         city state  \\\n",
       "0                       ['Fast Food', 'Restaurants']   Dravosburg    PA   \n",
       "1                                      ['Nightlife']   Dravosburg    PA   \n",
       "2                      ['Auto Repair', 'Automotive']   Dravosburg    PA   \n",
       "3               ['Active Life', 'Mini Golf', 'Golf']  Bethel Park    PA   \n",
       "4  ['Shopping', 'Home Services', 'Internet Servic...   Pittsburgh    PA   \n",
       "\n",
       "   review_count  stars  \n",
       "0             4    4.5  \n",
       "1             4    3.5  \n",
       "2             3    5.0  \n",
       "3             5    2.5  \n",
       "4             5    2.5  "
      ]
     },
     "execution_count": 13,
     "metadata": {},
     "output_type": "execute_result"
    }
   ],
   "source": [
    "yelpB_df = pd.read_csv('yelp_academic_dataset_business.csv', header = 0, sep = ',')\n",
    "yelpB_df.head()"
   ]
  },
  {
   "cell_type": "markdown",
   "metadata": {},
   "source": [
    "As you can see most of the fields are categorical, let's visualize how the businesses are spread across various states using a barplot/countplot. "
   ]
  },
  {
   "cell_type": "code",
   "execution_count": 14,
   "metadata": {},
   "outputs": [
    {
     "data": {
      "image/png": "[encoded data removed]",
      "text/plain": [
       "<Figure size 1080x432 with 1 Axes>"
      ]
     },
     "metadata": {
      "needs_background": "light"
     },
     "output_type": "display_data"
    }
   ],
   "source": [
    "fig = plt.figure(figsize=(15,6))\n",
    "sns.countplot('state', data=yelpB_df)\n",
    "plt.show()"
   ]
  },
  {
   "cell_type": "markdown",
   "metadata": {},
   "source": [
    "So, most of the businesses in our dataset are located in Arizona and Nevada. Yelp has intentionally provided data focusing on these two states.<br> Similarly, we will also look at the percentage distribution of businesses by ratings in a pie chart."
   ]
  },
  {
   "cell_type": "code",
   "execution_count": 15,
   "metadata": {},
   "outputs": [
    {
     "data": {
      "image/png": "[encoded data removed]",
      "text/plain": [
       "<Figure size 432x432 with 1 Axes>"
      ]
     },
     "metadata": {},
     "output_type": "display_data"
    }
   ],
   "source": [
    "stars = yelpB_df['stars'].value_counts()\n",
    "\n",
    "fig = plt.figure(figsize=(6,6))\n",
    "plt.pie(stars, labels=list(stars.index.values), autopct='%1.0f%%')\n",
    "plt.show()"
   ]
  },
  {
   "cell_type": "markdown",
   "metadata": {},
   "source": [
    "This is a simple way to get a sense of how various businesses are distributed across “quality” measured by visitors' ratings. I will leave the business data here for you to explore more. Let's turn our attention to the user data, which is more interesting. The \"users\", in this context, are those who have provided reviews or ratings for businesses on Yelp. Let us load up this dataset:"
   ]
  },
  {
   "cell_type": "code",
   "execution_count": 39,
   "metadata": {},
   "outputs": [
    {
     "name": "stdout",
     "output_type": "stream",
     "text": [
      "(552339, 11)\n"
     ]
    },
    {
     "data": {
      "text/html": [
       "<div>\n",
       "<style scoped>\n",
       "    .dataframe tbody tr th:only-of-type {\n",
       "        vertical-align: middle;\n",
       "    }\n",
       "\n",
       "    .dataframe tbody tr th {\n",
       "        vertical-align: top;\n",
       "    }\n",
       "\n",
       "    .dataframe thead th {\n",
       "        text-align: right;\n",
       "    }\n",
       "</style>\n",
       "<table border=\"1\" class=\"dataframe\">\n",
       "  <thead>\n",
       "    <tr style=\"text-align: right;\">\n",
       "      <th></th>\n",
       "      <th>user_id</th>\n",
       "      <th>name</th>\n",
       "      <th>review_count</th>\n",
       "      <th>average_stars</th>\n",
       "      <th>cool_votes</th>\n",
       "      <th>funny_votes</th>\n",
       "      <th>useful_votes</th>\n",
       "      <th>friends</th>\n",
       "      <th>elite</th>\n",
       "      <th>yelping_since</th>\n",
       "      <th>fans</th>\n",
       "    </tr>\n",
       "  </thead>\n",
       "  <tbody>\n",
       "    <tr>\n",
       "      <th>0</th>\n",
       "      <td>18kPq7GPye-YQ3LyKyAZPw</td>\n",
       "      <td>Russel</td>\n",
       "      <td>108</td>\n",
       "      <td>4.14</td>\n",
       "      <td>245</td>\n",
       "      <td>167</td>\n",
       "      <td>280</td>\n",
       "      <td>[rpOyqD_893cqmDAtJLbdog, 4U9kSBLuBDU391x6bxU-Y...</td>\n",
       "      <td>[2005, 2006]</td>\n",
       "      <td>2004-10</td>\n",
       "      <td>70</td>\n",
       "    </tr>\n",
       "    <tr>\n",
       "      <th>1</th>\n",
       "      <td>rpOyqD_893cqmDAtJLbdog</td>\n",
       "      <td>Jeremy</td>\n",
       "      <td>1274</td>\n",
       "      <td>3.66</td>\n",
       "      <td>11093</td>\n",
       "      <td>7681</td>\n",
       "      <td>14199</td>\n",
       "      <td>[18kPq7GPye-YQ3LyKyAZPw, 4U9kSBLuBDU391x6bxU-Y...</td>\n",
       "      <td>[2005, 2006, 2007, 2008, 2009, 2010, 2011, 201...</td>\n",
       "      <td>2004-10</td>\n",
       "      <td>1179</td>\n",
       "    </tr>\n",
       "    <tr>\n",
       "      <th>2</th>\n",
       "      <td>4U9kSBLuBDU391x6bxU-YA</td>\n",
       "      <td>Michael</td>\n",
       "      <td>442</td>\n",
       "      <td>3.60</td>\n",
       "      <td>732</td>\n",
       "      <td>908</td>\n",
       "      <td>1483</td>\n",
       "      <td>[18kPq7GPye-YQ3LyKyAZPw, rpOyqD_893cqmDAtJLbdo...</td>\n",
       "      <td>[2005, 2006, 2007, 2008, 2009, 2010, 2011, 201...</td>\n",
       "      <td>2004-10</td>\n",
       "      <td>100</td>\n",
       "    </tr>\n",
       "    <tr>\n",
       "      <th>3</th>\n",
       "      <td>fHtTaujcyKvXglE33Z5yIw</td>\n",
       "      <td>Ken</td>\n",
       "      <td>11</td>\n",
       "      <td>4.64</td>\n",
       "      <td>5</td>\n",
       "      <td>1</td>\n",
       "      <td>11</td>\n",
       "      <td>[18kPq7GPye-YQ3LyKyAZPw, rpOyqD_893cqmDAtJLbdo...</td>\n",
       "      <td>[]</td>\n",
       "      <td>2004-10</td>\n",
       "      <td>2</td>\n",
       "    </tr>\n",
       "    <tr>\n",
       "      <th>4</th>\n",
       "      <td>SIBCL7HBkrP4llolm4SC2A</td>\n",
       "      <td>Katherine</td>\n",
       "      <td>66</td>\n",
       "      <td>3.80</td>\n",
       "      <td>13</td>\n",
       "      <td>11</td>\n",
       "      <td>34</td>\n",
       "      <td>[rpOyqD_893cqmDAtJLbdog, HDQixQ-WZEV0LVPJlIGQe...</td>\n",
       "      <td>[2005]</td>\n",
       "      <td>2004-10</td>\n",
       "      <td>4</td>\n",
       "    </tr>\n",
       "  </tbody>\n",
       "</table>\n",
       "</div>"
      ],
      "text/plain": [
       "                  user_id       name  review_count  average_stars  cool_votes  \\\n",
       "0  18kPq7GPye-YQ3LyKyAZPw     Russel           108           4.14         245   \n",
       "1  rpOyqD_893cqmDAtJLbdog     Jeremy          1274           3.66       11093   \n",
       "2  4U9kSBLuBDU391x6bxU-YA    Michael           442           3.60         732   \n",
       "3  fHtTaujcyKvXglE33Z5yIw        Ken            11           4.64           5   \n",
       "4  SIBCL7HBkrP4llolm4SC2A  Katherine            66           3.80          13   \n",
       "\n",
       "   funny_votes  useful_votes  \\\n",
       "0          167           280   \n",
       "1         7681         14199   \n",
       "2          908          1483   \n",
       "3            1            11   \n",
       "4           11            34   \n",
       "\n",
       "                                             friends  \\\n",
       "0  [rpOyqD_893cqmDAtJLbdog, 4U9kSBLuBDU391x6bxU-Y...   \n",
       "1  [18kPq7GPye-YQ3LyKyAZPw, 4U9kSBLuBDU391x6bxU-Y...   \n",
       "2  [18kPq7GPye-YQ3LyKyAZPw, rpOyqD_893cqmDAtJLbdo...   \n",
       "3  [18kPq7GPye-YQ3LyKyAZPw, rpOyqD_893cqmDAtJLbdo...   \n",
       "4  [rpOyqD_893cqmDAtJLbdog, HDQixQ-WZEV0LVPJlIGQe...   \n",
       "\n",
       "                                               elite yelping_since  fans  \n",
       "0                                       [2005, 2006]       2004-10    70  \n",
       "1  [2005, 2006, 2007, 2008, 2009, 2010, 2011, 201...       2004-10  1179  \n",
       "2  [2005, 2006, 2007, 2008, 2009, 2010, 2011, 201...       2004-10   100  \n",
       "3                                                 []       2004-10     2  \n",
       "4                                             [2005]       2004-10     4  "
      ]
     },
     "execution_count": 39,
     "metadata": {},
     "output_type": "execute_result"
    }
   ],
   "source": [
    "yelpU_df = pd.read_csv('yelp_academic_dataset_user.csv', header = 0, sep = ',', converters={'friends': eval, 'elite': eval})\n",
    "print(yelpU_df.shape)\n",
    "yelpU_df.head()"
   ]
  },
  {
   "cell_type": "markdown",
   "metadata": {},
   "source": [
    "Notice that the user dataset has more than half-a-million records and 11 columns, which is certainly a good amount of data to work with. Let us look at the votes, there are three columns named **cool_votes, funny_votes**, and **useful_votes**. We can subset those columns using the following command:"
   ]
  },
  {
   "cell_type": "code",
   "execution_count": 17,
   "metadata": {},
   "outputs": [
    {
     "data": {
      "text/html": [
       "<div>\n",
       "<style scoped>\n",
       "    .dataframe tbody tr th:only-of-type {\n",
       "        vertical-align: middle;\n",
       "    }\n",
       "\n",
       "    .dataframe tbody tr th {\n",
       "        vertical-align: top;\n",
       "    }\n",
       "\n",
       "    .dataframe thead th {\n",
       "        text-align: right;\n",
       "    }\n",
       "</style>\n",
       "<table border=\"1\" class=\"dataframe\">\n",
       "  <thead>\n",
       "    <tr style=\"text-align: right;\">\n",
       "      <th></th>\n",
       "      <th>cool_votes</th>\n",
       "      <th>funny_votes</th>\n",
       "      <th>useful_votes</th>\n",
       "    </tr>\n",
       "  </thead>\n",
       "  <tbody>\n",
       "    <tr>\n",
       "      <th>cool_votes</th>\n",
       "      <td>1.000000</td>\n",
       "      <td>0.976411</td>\n",
       "      <td>0.983271</td>\n",
       "    </tr>\n",
       "    <tr>\n",
       "      <th>funny_votes</th>\n",
       "      <td>0.976411</td>\n",
       "      <td>1.000000</td>\n",
       "      <td>0.954654</td>\n",
       "    </tr>\n",
       "    <tr>\n",
       "      <th>useful_votes</th>\n",
       "      <td>0.983271</td>\n",
       "      <td>0.954654</td>\n",
       "      <td>1.000000</td>\n",
       "    </tr>\n",
       "  </tbody>\n",
       "</table>\n",
       "</div>"
      ],
      "text/plain": [
       "              cool_votes  funny_votes  useful_votes\n",
       "cool_votes      1.000000     0.976411      0.983271\n",
       "funny_votes     0.976411     1.000000      0.954654\n",
       "useful_votes    0.983271     0.954654      1.000000"
      ]
     },
     "execution_count": 17,
     "metadata": {},
     "output_type": "execute_result"
    }
   ],
   "source": [
    "votes_df = yelpU_df.loc[:,['cool_votes','funny_votes','useful_votes']]\n",
    "votes_df.corr()"
   ]
  },
  {
   "cell_type": "markdown",
   "metadata": {},
   "source": [
    "We see that there are strong positive correlations among these three variables, which should make it easy to build a good regression model in which you can use one or two of these variables and predict the third one. Similarly, let's see if writing more reviews bring more fans or if providing useful votes bring more fans. "
   ]
  },
  {
   "cell_type": "code",
   "execution_count": 21,
   "metadata": {},
   "outputs": [
    {
     "name": "stdout",
     "output_type": "stream",
     "text": [
      "0.58\n",
      "0.79\n"
     ]
    }
   ],
   "source": [
    "print(round(yelpU_df['review_count'].corr(yelpU_df['fans']),2))\n",
    "print(round(yelpU_df['useful_votes'].corr(yelpU_df['fans']),2))"
   ]
  },
  {
   "cell_type": "markdown",
   "metadata": {},
   "source": [
    "That gives a value of 0.58 and 0.79 respectively, which is about medium-strong correlation between review count and fans; and strong correlation between useful votes and fans. These are high correlation values which gives us some confidence that we could make a good prediction of fan count based on the numerical variables.<br> But first we will transform the dataframe to derive few more numerical fields, the **friends** column contains a list of user_id's who are friends to the user for that row. We can get count of friends per user from this column, similarly we can get the number of years a user had an elite status. And finally the **yelping_since** column gives us for how many years a user is member of Yelp."
   ]
  },
  {
   "cell_type": "code",
   "execution_count": 56,
   "metadata": {},
   "outputs": [
    {
     "data": {
      "text/html": [
       "<div>\n",
       "<style scoped>\n",
       "    .dataframe tbody tr th:only-of-type {\n",
       "        vertical-align: middle;\n",
       "    }\n",
       "\n",
       "    .dataframe tbody tr th {\n",
       "        vertical-align: top;\n",
       "    }\n",
       "\n",
       "    .dataframe thead th {\n",
       "        text-align: right;\n",
       "    }\n",
       "</style>\n",
       "<table border=\"1\" class=\"dataframe\">\n",
       "  <thead>\n",
       "    <tr style=\"text-align: right;\">\n",
       "      <th></th>\n",
       "      <th>user_id</th>\n",
       "      <th>name</th>\n",
       "      <th>review_count</th>\n",
       "      <th>average_stars</th>\n",
       "      <th>cool_votes</th>\n",
       "      <th>funny_votes</th>\n",
       "      <th>useful_votes</th>\n",
       "      <th>friends</th>\n",
       "      <th>elite</th>\n",
       "      <th>yelping_since</th>\n",
       "      <th>fans</th>\n",
       "      <th>friend_count</th>\n",
       "      <th>elite_years</th>\n",
       "      <th>yelp_years</th>\n",
       "    </tr>\n",
       "  </thead>\n",
       "  <tbody>\n",
       "    <tr>\n",
       "      <th>0</th>\n",
       "      <td>18kPq7GPye-YQ3LyKyAZPw</td>\n",
       "      <td>Russel</td>\n",
       "      <td>108</td>\n",
       "      <td>4.14</td>\n",
       "      <td>245</td>\n",
       "      <td>167</td>\n",
       "      <td>280</td>\n",
       "      <td>[rpOyqD_893cqmDAtJLbdog, 4U9kSBLuBDU391x6bxU-Y...</td>\n",
       "      <td>[2005, 2006]</td>\n",
       "      <td>2004-10</td>\n",
       "      <td>70</td>\n",
       "      <td>202</td>\n",
       "      <td>2</td>\n",
       "      <td>16</td>\n",
       "    </tr>\n",
       "    <tr>\n",
       "      <th>1</th>\n",
       "      <td>rpOyqD_893cqmDAtJLbdog</td>\n",
       "      <td>Jeremy</td>\n",
       "      <td>1274</td>\n",
       "      <td>3.66</td>\n",
       "      <td>11093</td>\n",
       "      <td>7681</td>\n",
       "      <td>14199</td>\n",
       "      <td>[18kPq7GPye-YQ3LyKyAZPw, 4U9kSBLuBDU391x6bxU-Y...</td>\n",
       "      <td>[2005, 2006, 2007, 2008, 2009, 2010, 2011, 201...</td>\n",
       "      <td>2004-10</td>\n",
       "      <td>1179</td>\n",
       "      <td>1936</td>\n",
       "      <td>11</td>\n",
       "      <td>16</td>\n",
       "    </tr>\n",
       "    <tr>\n",
       "      <th>2</th>\n",
       "      <td>4U9kSBLuBDU391x6bxU-YA</td>\n",
       "      <td>Michael</td>\n",
       "      <td>442</td>\n",
       "      <td>3.60</td>\n",
       "      <td>732</td>\n",
       "      <td>908</td>\n",
       "      <td>1483</td>\n",
       "      <td>[18kPq7GPye-YQ3LyKyAZPw, rpOyqD_893cqmDAtJLbdo...</td>\n",
       "      <td>[2005, 2006, 2007, 2008, 2009, 2010, 2011, 201...</td>\n",
       "      <td>2004-10</td>\n",
       "      <td>100</td>\n",
       "      <td>405</td>\n",
       "      <td>11</td>\n",
       "      <td>16</td>\n",
       "    </tr>\n",
       "    <tr>\n",
       "      <th>3</th>\n",
       "      <td>fHtTaujcyKvXglE33Z5yIw</td>\n",
       "      <td>Ken</td>\n",
       "      <td>11</td>\n",
       "      <td>4.64</td>\n",
       "      <td>5</td>\n",
       "      <td>1</td>\n",
       "      <td>11</td>\n",
       "      <td>[18kPq7GPye-YQ3LyKyAZPw, rpOyqD_893cqmDAtJLbdo...</td>\n",
       "      <td>[]</td>\n",
       "      <td>2004-10</td>\n",
       "      <td>2</td>\n",
       "      <td>4</td>\n",
       "      <td>0</td>\n",
       "      <td>16</td>\n",
       "    </tr>\n",
       "    <tr>\n",
       "      <th>4</th>\n",
       "      <td>SIBCL7HBkrP4llolm4SC2A</td>\n",
       "      <td>Katherine</td>\n",
       "      <td>66</td>\n",
       "      <td>3.80</td>\n",
       "      <td>13</td>\n",
       "      <td>11</td>\n",
       "      <td>34</td>\n",
       "      <td>[rpOyqD_893cqmDAtJLbdog, HDQixQ-WZEV0LVPJlIGQe...</td>\n",
       "      <td>[2005]</td>\n",
       "      <td>2004-10</td>\n",
       "      <td>4</td>\n",
       "      <td>4</td>\n",
       "      <td>1</td>\n",
       "      <td>16</td>\n",
       "    </tr>\n",
       "  </tbody>\n",
       "</table>\n",
       "</div>"
      ],
      "text/plain": [
       "                  user_id       name  review_count  average_stars  cool_votes  \\\n",
       "0  18kPq7GPye-YQ3LyKyAZPw     Russel           108           4.14         245   \n",
       "1  rpOyqD_893cqmDAtJLbdog     Jeremy          1274           3.66       11093   \n",
       "2  4U9kSBLuBDU391x6bxU-YA    Michael           442           3.60         732   \n",
       "3  fHtTaujcyKvXglE33Z5yIw        Ken            11           4.64           5   \n",
       "4  SIBCL7HBkrP4llolm4SC2A  Katherine            66           3.80          13   \n",
       "\n",
       "   funny_votes  useful_votes  \\\n",
       "0          167           280   \n",
       "1         7681         14199   \n",
       "2          908          1483   \n",
       "3            1            11   \n",
       "4           11            34   \n",
       "\n",
       "                                             friends  \\\n",
       "0  [rpOyqD_893cqmDAtJLbdog, 4U9kSBLuBDU391x6bxU-Y...   \n",
       "1  [18kPq7GPye-YQ3LyKyAZPw, 4U9kSBLuBDU391x6bxU-Y...   \n",
       "2  [18kPq7GPye-YQ3LyKyAZPw, rpOyqD_893cqmDAtJLbdo...   \n",
       "3  [18kPq7GPye-YQ3LyKyAZPw, rpOyqD_893cqmDAtJLbdo...   \n",
       "4  [rpOyqD_893cqmDAtJLbdog, HDQixQ-WZEV0LVPJlIGQe...   \n",
       "\n",
       "                                               elite yelping_since  fans  \\\n",
       "0                                       [2005, 2006]       2004-10    70   \n",
       "1  [2005, 2006, 2007, 2008, 2009, 2010, 2011, 201...       2004-10  1179   \n",
       "2  [2005, 2006, 2007, 2008, 2009, 2010, 2011, 201...       2004-10   100   \n",
       "3                                                 []       2004-10     2   \n",
       "4                                             [2005]       2004-10     4   \n",
       "\n",
       "   friend_count  elite_years  yelp_years  \n",
       "0           202            2          16  \n",
       "1          1936           11          16  \n",
       "2           405           11          16  \n",
       "3             4            0          16  \n",
       "4             4            1          16  "
      ]
     },
     "execution_count": 56,
     "metadata": {},
     "output_type": "execute_result"
    }
   ],
   "source": [
    "yelpU_df['friend_count'] = yelpU_df['friends'].str.len()\n",
    "yelpU_df['elite_years'] = yelpU_df['elite'].str.len()\n",
    "yelpU_df['yelp_years'] = (2020 - yelpU_df['yelping_since'].str[:4].astype('int16'))\n",
    "yelpU_df.head()"
   ]
  },
  {
   "cell_type": "markdown",
   "metadata": {},
   "source": [
    "The datarfame is looking good with more numeric fields, which are ideal for regression. Let's subset the numeric variables into a new dataframe along with **user_id** which can be used as an index. "
   ]
  },
  {
   "cell_type": "code",
   "execution_count": 60,
   "metadata": {},
   "outputs": [
    {
     "data": {
      "text/html": [
       "<div>\n",
       "<style scoped>\n",
       "    .dataframe tbody tr th:only-of-type {\n",
       "        vertical-align: middle;\n",
       "    }\n",
       "\n",
       "    .dataframe tbody tr th {\n",
       "        vertical-align: top;\n",
       "    }\n",
       "\n",
       "    .dataframe thead th {\n",
       "        text-align: right;\n",
       "    }\n",
       "</style>\n",
       "<table border=\"1\" class=\"dataframe\">\n",
       "  <thead>\n",
       "    <tr style=\"text-align: right;\">\n",
       "      <th></th>\n",
       "      <th>review_count</th>\n",
       "      <th>average_stars</th>\n",
       "      <th>useful_votes</th>\n",
       "      <th>friend_count</th>\n",
       "      <th>elite_years</th>\n",
       "      <th>yelp_years</th>\n",
       "      <th>fans</th>\n",
       "    </tr>\n",
       "    <tr>\n",
       "      <th>user_id</th>\n",
       "      <th></th>\n",
       "      <th></th>\n",
       "      <th></th>\n",
       "      <th></th>\n",
       "      <th></th>\n",
       "      <th></th>\n",
       "      <th></th>\n",
       "    </tr>\n",
       "  </thead>\n",
       "  <tbody>\n",
       "    <tr>\n",
       "      <th>18kPq7GPye-YQ3LyKyAZPw</th>\n",
       "      <td>108</td>\n",
       "      <td>4.14</td>\n",
       "      <td>280</td>\n",
       "      <td>202</td>\n",
       "      <td>2</td>\n",
       "      <td>16</td>\n",
       "      <td>70</td>\n",
       "    </tr>\n",
       "    <tr>\n",
       "      <th>rpOyqD_893cqmDAtJLbdog</th>\n",
       "      <td>1274</td>\n",
       "      <td>3.66</td>\n",
       "      <td>14199</td>\n",
       "      <td>1936</td>\n",
       "      <td>11</td>\n",
       "      <td>16</td>\n",
       "      <td>1179</td>\n",
       "    </tr>\n",
       "    <tr>\n",
       "      <th>4U9kSBLuBDU391x6bxU-YA</th>\n",
       "      <td>442</td>\n",
       "      <td>3.60</td>\n",
       "      <td>1483</td>\n",
       "      <td>405</td>\n",
       "      <td>11</td>\n",
       "      <td>16</td>\n",
       "      <td>100</td>\n",
       "    </tr>\n",
       "    <tr>\n",
       "      <th>fHtTaujcyKvXglE33Z5yIw</th>\n",
       "      <td>11</td>\n",
       "      <td>4.64</td>\n",
       "      <td>11</td>\n",
       "      <td>4</td>\n",
       "      <td>0</td>\n",
       "      <td>16</td>\n",
       "      <td>2</td>\n",
       "    </tr>\n",
       "    <tr>\n",
       "      <th>SIBCL7HBkrP4llolm4SC2A</th>\n",
       "      <td>66</td>\n",
       "      <td>3.80</td>\n",
       "      <td>34</td>\n",
       "      <td>4</td>\n",
       "      <td>1</td>\n",
       "      <td>16</td>\n",
       "      <td>4</td>\n",
       "    </tr>\n",
       "    <tr>\n",
       "      <th>...</th>\n",
       "      <td>...</td>\n",
       "      <td>...</td>\n",
       "      <td>...</td>\n",
       "      <td>...</td>\n",
       "      <td>...</td>\n",
       "      <td>...</td>\n",
       "      <td>...</td>\n",
       "    </tr>\n",
       "    <tr>\n",
       "      <th>5bWq6eXzWQ15S-0qTNjr5Q</th>\n",
       "      <td>62</td>\n",
       "      <td>4.27</td>\n",
       "      <td>22</td>\n",
       "      <td>0</td>\n",
       "      <td>0</td>\n",
       "      <td>6</td>\n",
       "      <td>0</td>\n",
       "    </tr>\n",
       "    <tr>\n",
       "      <th>IfvSeVlGZJUlYnTYRWJhKQ</th>\n",
       "      <td>2</td>\n",
       "      <td>1.00</td>\n",
       "      <td>0</td>\n",
       "      <td>0</td>\n",
       "      <td>0</td>\n",
       "      <td>6</td>\n",
       "      <td>0</td>\n",
       "    </tr>\n",
       "    <tr>\n",
       "      <th>OhR-zDBVoGC7GjZ8h3MZjw</th>\n",
       "      <td>2</td>\n",
       "      <td>3.50</td>\n",
       "      <td>2</td>\n",
       "      <td>0</td>\n",
       "      <td>0</td>\n",
       "      <td>5</td>\n",
       "      <td>0</td>\n",
       "    </tr>\n",
       "    <tr>\n",
       "      <th>dgQave8eNy52qNDqpmBm8w</th>\n",
       "      <td>7</td>\n",
       "      <td>3.29</td>\n",
       "      <td>2</td>\n",
       "      <td>4</td>\n",
       "      <td>0</td>\n",
       "      <td>5</td>\n",
       "      <td>1</td>\n",
       "    </tr>\n",
       "    <tr>\n",
       "      <th>3KQfDoePO590Of0XjYUp6Q</th>\n",
       "      <td>1</td>\n",
       "      <td>5.00</td>\n",
       "      <td>0</td>\n",
       "      <td>0</td>\n",
       "      <td>0</td>\n",
       "      <td>5</td>\n",
       "      <td>0</td>\n",
       "    </tr>\n",
       "  </tbody>\n",
       "</table>\n",
       "<p>552339 rows × 7 columns</p>\n",
       "</div>"
      ],
      "text/plain": [
       "                        review_count  average_stars  useful_votes  \\\n",
       "user_id                                                             \n",
       "18kPq7GPye-YQ3LyKyAZPw           108           4.14           280   \n",
       "rpOyqD_893cqmDAtJLbdog          1274           3.66         14199   \n",
       "4U9kSBLuBDU391x6bxU-YA           442           3.60          1483   \n",
       "fHtTaujcyKvXglE33Z5yIw            11           4.64            11   \n",
       "SIBCL7HBkrP4llolm4SC2A            66           3.80            34   \n",
       "...                              ...            ...           ...   \n",
       "5bWq6eXzWQ15S-0qTNjr5Q            62           4.27            22   \n",
       "IfvSeVlGZJUlYnTYRWJhKQ             2           1.00             0   \n",
       "OhR-zDBVoGC7GjZ8h3MZjw             2           3.50             2   \n",
       "dgQave8eNy52qNDqpmBm8w             7           3.29             2   \n",
       "3KQfDoePO590Of0XjYUp6Q             1           5.00             0   \n",
       "\n",
       "                        friend_count  elite_years  yelp_years  fans  \n",
       "user_id                                                              \n",
       "18kPq7GPye-YQ3LyKyAZPw           202            2          16    70  \n",
       "rpOyqD_893cqmDAtJLbdog          1936           11          16  1179  \n",
       "4U9kSBLuBDU391x6bxU-YA           405           11          16   100  \n",
       "fHtTaujcyKvXglE33Z5yIw             4            0          16     2  \n",
       "SIBCL7HBkrP4llolm4SC2A             4            1          16     4  \n",
       "...                              ...          ...         ...   ...  \n",
       "5bWq6eXzWQ15S-0qTNjr5Q             0            0           6     0  \n",
       "IfvSeVlGZJUlYnTYRWJhKQ             0            0           6     0  \n",
       "OhR-zDBVoGC7GjZ8h3MZjw             0            0           5     0  \n",
       "dgQave8eNy52qNDqpmBm8w             4            0           5     1  \n",
       "3KQfDoePO590Of0XjYUp6Q             0            0           5     0  \n",
       "\n",
       "[552339 rows x 7 columns]"
      ]
     },
     "execution_count": 60,
     "metadata": {},
     "output_type": "execute_result"
    }
   ],
   "source": [
    "yelpFans_df = yelpU_df.loc[:,['user_id','review_count','average_stars','useful_votes','friend_count','elite_years','yelp_years','fans']].set_index('user_id')\n",
    "yelpFans_df"
   ]
  },
  {
   "cell_type": "markdown",
   "metadata": {},
   "source": [
    "Before moving on to modeling it is often important to look at the distribution of our independent and dependant variables. "
   ]
  },
  {
   "cell_type": "code",
   "execution_count": 72,
   "metadata": {},
   "outputs": [
    {
     "data": {
      "image/png": "[encoded data removed]",
      "text/plain": [
       "<Figure size 864x432 with 1 Axes>"
      ]
     },
     "metadata": {
      "needs_background": "light"
     },
     "output_type": "display_data"
    }
   ],
   "source": [
    "fig = plt.figure(figsize=(12,6))\n",
    "yelpFans_df.boxplot()\n",
    "plt.show()"
   ]
  },
  {
   "cell_type": "markdown",
   "metadata": {},
   "source": [
    "From the boxplots, we can observe the range and extreme positive skewness in the variables. This is problematic when building a regression model which assumes normal distribution and linear relationships between variables. There are a few techniques to normalize the data, we will use Log+1 transformation here:"
   ]
  },
  {
   "cell_type": "code",
   "execution_count": 114,
   "metadata": {},
   "outputs": [
    {
     "data": {
      "image/png": "[encoded data removed]",
      "text/plain": [
       "<Figure size 864x432 with 1 Axes>"
      ]
     },
     "metadata": {
      "needs_background": "light"
     },
     "output_type": "display_data"
    }
   ],
   "source": [
    "FansLog_df = np.log(yelpFans_df+1)\n",
    "fig = plt.figure(figsize=(12,6))\n",
    "FansLog_df.boxplot()\n",
    "plt.show()"
   ]
  },
  {
   "cell_type": "markdown",
   "metadata": {},
   "source": [
    "Compare the boxplots of transformed data to the original. Log+1 transformation works much better to reduce positive skewness and improve symmetry in data, but notice that **average_stars** variable has deteriorated with more outliers than original, this is because it was initially negatively skewed. I will leave it to you to handle that field seperately.<br>\n",
    "Let's take a look at summary statistics and move on to build the model:"
   ]
  },
  {
   "cell_type": "code",
   "execution_count": 120,
   "metadata": {
    "scrolled": true
   },
   "outputs": [
    {
     "data": {
      "text/html": [
       "<div>\n",
       "<style scoped>\n",
       "    .dataframe tbody tr th:only-of-type {\n",
       "        vertical-align: middle;\n",
       "    }\n",
       "\n",
       "    .dataframe tbody tr th {\n",
       "        vertical-align: top;\n",
       "    }\n",
       "\n",
       "    .dataframe thead th {\n",
       "        text-align: right;\n",
       "    }\n",
       "</style>\n",
       "<table border=\"1\" class=\"dataframe\">\n",
       "  <thead>\n",
       "    <tr style=\"text-align: right;\">\n",
       "      <th></th>\n",
       "      <th>review_count</th>\n",
       "      <th>average_stars</th>\n",
       "      <th>useful_votes</th>\n",
       "      <th>friend_count</th>\n",
       "      <th>elite_years</th>\n",
       "      <th>yelp_years</th>\n",
       "      <th>fans</th>\n",
       "    </tr>\n",
       "  </thead>\n",
       "  <tbody>\n",
       "    <tr>\n",
       "      <th>count</th>\n",
       "      <td>552339.000000</td>\n",
       "      <td>552339.000000</td>\n",
       "      <td>552339.000000</td>\n",
       "      <td>552339.000000</td>\n",
       "      <td>552339.000000</td>\n",
       "      <td>552339.000000</td>\n",
       "      <td>552339.000000</td>\n",
       "    </tr>\n",
       "    <tr>\n",
       "      <th>mean</th>\n",
       "      <td>2.189043</td>\n",
       "      <td>1.523253</td>\n",
       "      <td>1.952225</td>\n",
       "      <td>0.808769</td>\n",
       "      <td>0.071439</td>\n",
       "      <td>2.175122</td>\n",
       "      <td>0.306880</td>\n",
       "    </tr>\n",
       "    <tr>\n",
       "      <th>std</th>\n",
       "      <td>1.303837</td>\n",
       "      <td>0.276810</td>\n",
       "      <td>1.666253</td>\n",
       "      <td>1.159397</td>\n",
       "      <td>0.309679</td>\n",
       "      <td>0.234512</td>\n",
       "      <td>0.678314</td>\n",
       "    </tr>\n",
       "    <tr>\n",
       "      <th>min</th>\n",
       "      <td>0.000000</td>\n",
       "      <td>0.000000</td>\n",
       "      <td>0.000000</td>\n",
       "      <td>0.000000</td>\n",
       "      <td>0.000000</td>\n",
       "      <td>1.609438</td>\n",
       "      <td>0.000000</td>\n",
       "    </tr>\n",
       "    <tr>\n",
       "      <th>25%</th>\n",
       "      <td>1.098612</td>\n",
       "      <td>1.446919</td>\n",
       "      <td>0.693147</td>\n",
       "      <td>0.000000</td>\n",
       "      <td>0.000000</td>\n",
       "      <td>1.945910</td>\n",
       "      <td>0.000000</td>\n",
       "    </tr>\n",
       "    <tr>\n",
       "      <th>50%</th>\n",
       "      <td>1.945910</td>\n",
       "      <td>1.589235</td>\n",
       "      <td>1.609438</td>\n",
       "      <td>0.000000</td>\n",
       "      <td>0.000000</td>\n",
       "      <td>2.197225</td>\n",
       "      <td>0.000000</td>\n",
       "    </tr>\n",
       "    <tr>\n",
       "      <th>75%</th>\n",
       "      <td>2.944439</td>\n",
       "      <td>1.704748</td>\n",
       "      <td>2.944439</td>\n",
       "      <td>1.386294</td>\n",
       "      <td>0.000000</td>\n",
       "      <td>2.302585</td>\n",
       "      <td>0.000000</td>\n",
       "    </tr>\n",
       "    <tr>\n",
       "      <th>max</th>\n",
       "      <td>9.241936</td>\n",
       "      <td>1.791759</td>\n",
       "      <td>10.931999</td>\n",
       "      <td>8.246172</td>\n",
       "      <td>2.484907</td>\n",
       "      <td>2.833213</td>\n",
       "      <td>7.413367</td>\n",
       "    </tr>\n",
       "  </tbody>\n",
       "</table>\n",
       "</div>"
      ],
      "text/plain": [
       "        review_count  average_stars   useful_votes   friend_count  \\\n",
       "count  552339.000000  552339.000000  552339.000000  552339.000000   \n",
       "mean        2.189043       1.523253       1.952225       0.808769   \n",
       "std         1.303837       0.276810       1.666253       1.159397   \n",
       "min         0.000000       0.000000       0.000000       0.000000   \n",
       "25%         1.098612       1.446919       0.693147       0.000000   \n",
       "50%         1.945910       1.589235       1.609438       0.000000   \n",
       "75%         2.944439       1.704748       2.944439       1.386294   \n",
       "max         9.241936       1.791759      10.931999       8.246172   \n",
       "\n",
       "         elite_years     yelp_years           fans  \n",
       "count  552339.000000  552339.000000  552339.000000  \n",
       "mean        0.071439       2.175122       0.306880  \n",
       "std         0.309679       0.234512       0.678314  \n",
       "min         0.000000       1.609438       0.000000  \n",
       "25%         0.000000       1.945910       0.000000  \n",
       "50%         0.000000       2.197225       0.000000  \n",
       "75%         0.000000       2.302585       0.000000  \n",
       "max         2.484907       2.833213       7.413367  "
      ]
     },
     "execution_count": 120,
     "metadata": {},
     "output_type": "execute_result"
    }
   ],
   "source": [
    "FansLog_df.describe()"
   ]
  },
  {
   "cell_type": "markdown",
   "metadata": {},
   "source": [
    "Look at the difference between third quartile and maximum values, many fields still have considerable amoount of outliers in the data. But as most of the data are outliers it doesn't make much sense to impute them, let's go ahead and build a multiple linear regression model as we have multiple independent variables."
   ]
  },
  {
   "cell_type": "code",
   "execution_count": 121,
   "metadata": {},
   "outputs": [],
   "source": [
    "from sklearn.linear_model import LinearRegression\n",
    "X = FansLog_df.iloc[:, 0:6]\n",
    "y = FansLog_df.iloc[:, 6]\n",
    "np.random.seed(123)\n",
    "X_train, X_test, y_train, y_test = train_test_split(X, y, test_size=0.3) \n",
    "MLR = LinearRegression()  #create a regression model\n",
    "MLR.fit(X_train,y_train)  #train the model using training sets\n",
    "y_pred = MLR.predict(X_test)  #predict the test set"
   ]
  },
  {
   "cell_type": "code",
   "execution_count": 122,
   "metadata": {},
   "outputs": [
    {
     "data": {
      "text/html": [
       "<div>\n",
       "<style scoped>\n",
       "    .dataframe tbody tr th:only-of-type {\n",
       "        vertical-align: middle;\n",
       "    }\n",
       "\n",
       "    .dataframe tbody tr th {\n",
       "        vertical-align: top;\n",
       "    }\n",
       "\n",
       "    .dataframe thead th {\n",
       "        text-align: right;\n",
       "    }\n",
       "</style>\n",
       "<table border=\"1\" class=\"dataframe\">\n",
       "  <thead>\n",
       "    <tr style=\"text-align: right;\">\n",
       "      <th></th>\n",
       "      <th>Coefficient</th>\n",
       "    </tr>\n",
       "  </thead>\n",
       "  <tbody>\n",
       "    <tr>\n",
       "      <th>review_count</th>\n",
       "      <td>0.072055</td>\n",
       "    </tr>\n",
       "    <tr>\n",
       "      <th>average_stars</th>\n",
       "      <td>0.008646</td>\n",
       "    </tr>\n",
       "    <tr>\n",
       "      <th>useful_votes</th>\n",
       "      <td>0.102806</td>\n",
       "    </tr>\n",
       "    <tr>\n",
       "      <th>friend_count</th>\n",
       "      <td>0.150183</td>\n",
       "    </tr>\n",
       "    <tr>\n",
       "      <th>elite_years</th>\n",
       "      <td>0.786130</td>\n",
       "    </tr>\n",
       "    <tr>\n",
       "      <th>yelp_years</th>\n",
       "      <td>-0.052314</td>\n",
       "    </tr>\n",
       "  </tbody>\n",
       "</table>\n",
       "</div>"
      ],
      "text/plain": [
       "               Coefficient\n",
       "review_count      0.072055\n",
       "average_stars     0.008646\n",
       "useful_votes      0.102806\n",
       "friend_count      0.150183\n",
       "elite_years       0.786130\n",
       "yelp_years       -0.052314"
      ]
     },
     "execution_count": 122,
     "metadata": {},
     "output_type": "execute_result"
    }
   ],
   "source": [
    "coeff_df = pd.DataFrame(MLR.coef_, FansLog_df.iloc[:, 0:6].columns, columns=['Coefficient'])\n",
    "coeff_df"
   ]
  },
  {
   "cell_type": "markdown",
   "metadata": {},
   "source": [
    "Observe that the variable **elite_years** contributes most to the fans. Which means, the more number of years a user stay in elite status, the more number of fans he/she can make. "
   ]
  },
  {
   "cell_type": "code",
   "execution_count": 123,
   "metadata": {},
   "outputs": [
    {
     "name": "stdout",
     "output_type": "stream",
     "text": [
      "Root Mean squared error: 0.38\n",
      "Coefficient of determination: 0.69\n"
     ]
    }
   ],
   "source": [
    "# The root mean squared error\n",
    "print('Root Mean squared error: %.2f'\n",
    "      % np.sqrt(metrics.mean_squared_error(y_test, y_pred)))\n",
    "# The coefficient of determination: 1 is perfect prediction\n",
    "print('Coefficient of determination: %.2f'\n",
    "      % metrics.r2_score(y_test, y_pred))"
   ]
  },
  {
   "cell_type": "markdown",
   "metadata": {},
   "source": [
    "Coming to evaluation metrics, let's look at RMSE and R-squared values. RMSE is a relative metric and is dependent on the **fans** variable. Even though a value of 0.38 looks \"small\", if we look at the range and mean of **fans** variable, 7.41 and 0.31 respectively, the RMSE is not small enough. But the R-squared being an absolute value between 0-1, is moderately strong for 0.69. Overall what this means for our model is that most of the predictions are reasonably good but the variability of error is high. There are several advanced techniques and metrics to improve model accuracy and evaluating machine learning models, which you will learn in the upcoming courses.  "
   ]
  },
  {
   "cell_type": "markdown",
   "metadata": {},
   "source": [
    "This concludes the presentation for the final module in this course."
   ]
  }
 ],
 "metadata": {
  "kernelspec": {
   "display_name": "Python 3",
   "language": "python",
   "name": "python3"
  },
  "language_info": {
   "codemirror_mode": {
    "name": "ipython",
    "version": 3
   },
   "file_extension": ".py",
   "mimetype": "text/x-python",
   "name": "python",
   "nbconvert_exporter": "python",
   "pygments_lexer": "ipython3",
   "version": "3.8.3"
  }
 },
 "nbformat": 4,
 "nbformat_minor": 4
}
